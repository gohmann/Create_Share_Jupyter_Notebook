{
 "cells": [
  {
   "cell_type": "markdown",
   "id": "4347e505-1214-4e0a-9906-40ba1e7cef56",
   "metadata": {},
   "source": [
    "# Data Science Tools and Ecosystem"
   ]
  },
  {
   "cell_type": "markdown",
   "id": "d132c087-3c1f-44d5-92c1-8e32a5bd1709",
   "metadata": {},
   "source": [
    "## Author: Gina Ohmann"
   ]
  },
  {
   "cell_type": "markdown",
   "id": "c1ef1bc5-08c7-4eb3-8190-4915917e74d1",
   "metadata": {},
   "source": [
    "In this notebook, Data Science Tools and Ecosystem are summarized."
   ]
  },
  {
   "cell_type": "markdown",
   "id": "9d95591b-9cfd-4e34-afb4-df6c0504f05d",
   "metadata": {},
   "source": [
    "**Objectives:**\n",
    "+ List popular languages for Data Science.\n",
    "+ List commonly used libraries by Data Scientists\n",
    "+ List open-source Data Science tools"
   ]
  },
  {
   "cell_type": "code",
   "execution_count": null,
   "id": "c0256102-c8a0-4dce-af20-ca16a662da2f",
   "metadata": {},
   "outputs": [],
   "source": [
    "Some of the popular languages that Data Scientists use are:\n",
    "1. Python\n",
    "2. R\n",
    "3. Julia"
   ]
  },
  {
   "cell_type": "markdown",
   "id": "b143da8a-85e5-4c54-842f-60561d629a9c",
   "metadata": {},
   "source": [
    "Some of the commonly used libraries use by Data Scientists include:\n",
    "1. NumPy\n",
    "2. SciPy\n",
    "3. Pandas\n",
    "4. SciKit-Learn\n"
   ]
  },
  {
   "cell_type": "markdown",
   "id": "e874f892-6d77-452a-964c-87929154e025",
   "metadata": {},
   "source": [
    "|Data Science Tools|\n",
    "|------------------|\n",
    "|Jupyter Notebook|\n",
    "|Spyder|\n",
    "|Google Colaboratory|\n",
    "|TensorFLow|"
   ]
  },
  {
   "cell_type": "markdown",
   "id": "87d05719-d8f2-4ec2-9b4c-b47c076932c4",
   "metadata": {},
   "source": [
    "### Below are a few examples of evaluating arithmetic expressions in Python."
   ]
  },
  {
   "cell_type": "code",
   "execution_count": 14,
   "id": "34a69b03-8319-46eb-8902-4a9e9aae15b4",
   "metadata": {},
   "outputs": [
    {
     "data": {
      "text/plain": [
       "17"
      ]
     },
     "execution_count": 14,
     "metadata": {},
     "output_type": "execute_result"
    }
   ],
   "source": [
    "#This is a simple arithmetic expression\n",
    "(3*4)+5"
   ]
  },
  {
   "cell_type": "code",
   "execution_count": 30,
   "id": "5bc0e485-2f83-4e6b-809a-4285953906d1",
   "metadata": {},
   "outputs": [
    {
     "name": "stdout",
     "output_type": "stream",
     "text": [
      "200\n",
      "minutes is equivalent to\n",
      "3:20\n",
      "hours\n"
     ]
    }
   ],
   "source": [
    "#This will convert 200 minutes to hours by dividing by 60.\n",
    "total_minutes = 200\n",
    "hours = total_minutes // 60\n",
    "minutes = total_minutes % 60\n",
    "time = \"{}:{}\".format(hours, minutes)\n",
    "print(total_minutes) \n",
    "print(\"minutes is equivalent to\")\n",
    "print(time) \n",
    "print(\"hours\")"
   ]
  }
 ],
 "metadata": {
  "kernelspec": {
   "display_name": "Python [conda env:base] *",
   "language": "python",
   "name": "conda-base-py"
  },
  "language_info": {
   "codemirror_mode": {
    "name": "ipython",
    "version": 3
   },
   "file_extension": ".py",
   "mimetype": "text/x-python",
   "name": "python",
   "nbconvert_exporter": "python",
   "pygments_lexer": "ipython3",
   "version": "3.12.7"
  }
 },
 "nbformat": 4,
 "nbformat_minor": 5
}
